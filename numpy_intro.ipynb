{
 "cells": [
  {
   "cell_type": "markdown",
   "metadata": {},
   "source": [
    "# Introduction to Datamining\n",
    "#### Instructor : Zia Beheshti, School of Engineering, [Azad U, South Tehran Branch](http://www/azad/ac/ir)"
   ]
  },
  {
   "cell_type": "markdown",
   "metadata": {},
   "source": [
    "# Numpy cheatsheet"
   ]
  },
  {
   "cell_type": "code",
   "execution_count": 2,
   "metadata": {
    "scrolled": true
   },
   "outputs": [
    {
     "name": "stdout",
     "output_type": "stream",
     "text": [
      "Requirement already satisfied: numpy in c:\\users\\z.beheshtifard\\miniconda3\\lib\\site-packages (1.20.1)\n"
     ]
    }
   ],
   "source": [
    "!pip install numpy"
   ]
  },
  {
   "cell_type": "code",
   "execution_count": 3,
   "metadata": {},
   "outputs": [],
   "source": [
    "import numpy as np"
   ]
  },
  {
   "cell_type": "markdown",
   "metadata": {},
   "source": [
    "## Creating arrays"
   ]
  },
  {
   "cell_type": "markdown",
   "metadata": {},
   "source": [
    "Creating arrays"
   ]
  },
  {
   "cell_type": "code",
   "execution_count": 4,
   "metadata": {},
   "outputs": [
    {
     "name": "stdout",
     "output_type": "stream",
     "text": [
      "a is :  [1 2 3 8]\n",
      "b is :\n",
      " [[1 2 3]\n",
      " [4 5 6]\n",
      " [7 8 9]]\n"
     ]
    }
   ],
   "source": [
    "# Creating arrays\n",
    "a = np.array([1,2,3,8]) # one-dimentional array\n",
    "b = np.array([(1,2,3),(4,5,6),(7,8,9)]) # two-dimenttional array\n",
    "print('a is : ', a)\n",
    "print('b is :\\n', b)"
   ]
  },
  {
   "cell_type": "markdown",
   "metadata": {},
   "source": [
    "Elements access"
   ]
  },
  {
   "cell_type": "code",
   "execution_count": 5,
   "metadata": {},
   "outputs": [
    {
     "name": "stdout",
     "output_type": "stream",
     "text": [
      "5\n",
      "[[1 2 3]\n",
      " [4 5 6]]\n",
      "[8 9]\n",
      "[ 2  5  8 11 14 17]\n"
     ]
    }
   ],
   "source": [
    "print(b[1,1]) # element wise access\n",
    "\n",
    "print(b[:2,:]) # range wise access\n",
    "\n",
    "print(b[-1, 1:3])\n",
    "\n",
    "c = np.arange(2,20,3) #create in range\n",
    "print(c)"
   ]
  },
  {
   "cell_type": "markdown",
   "metadata": {},
   "source": [
    "Boolean Indexing"
   ]
  },
  {
   "cell_type": "code",
   "execution_count": 6,
   "metadata": {},
   "outputs": [
    {
     "name": "stdout",
     "output_type": "stream",
     "text": [
      "[ 3  1  4  6  2  0 -7]\n",
      "True\n",
      "False\n",
      "[3 1 8 8]\n",
      "[4 3 1]\n"
     ]
    }
   ],
   "source": [
    "a = np.array([8,3,1,4,6,2,9,0,-7,14])\n",
    "print(a[a<7]) # boolean indexing\n",
    "print(a.any())\n",
    "print(a.all())\n",
    "b = a[[1,2,0,0]] # fancy indexing\n",
    "print(b)\n",
    "\n",
    "idx = [3,1,2] # another type of fancy indexing\n",
    "print(a[idx])\n"
   ]
  },
  {
   "cell_type": "markdown",
   "metadata": {},
   "source": [
    "Create range arrays"
   ]
  },
  {
   "cell_type": "code",
   "execution_count": 7,
   "metadata": {},
   "outputs": [
    {
     "name": "stdout",
     "output_type": "stream",
     "text": [
      "[100  88  76  64  52  40  28  16]\n",
      "[[0 0 0 0 0]\n",
      " [0 0 0 0 0]\n",
      " [0 0 0 0 0]]\n",
      "[[1. 1.]\n",
      " [1. 1.]]\n",
      "[0.   0.25 0.5  0.75 1.   1.25 1.5  1.75 2.  ]\n",
      "[[1. 0. 0.]\n",
      " [0. 1. 0.]\n",
      " [0. 0. 1.]]\n",
      "[[0.21765099 0.86398751 0.0228019  0.33063225]\n",
      " [0.42402266 0.65492502 0.53413781 0.72308263]\n",
      " [0.46951365 0.35336722 0.14481037 0.23547286]]\n",
      "[[1.5 1.5 1.5 1.5]\n",
      " [1.5 1.5 1.5 1.5]\n",
      " [1.5 1.5 1.5 1.5]]\n",
      "8\n",
      "3\n",
      "5\n",
      "(3, 5)\n"
     ]
    }
   ],
   "source": [
    "c = np.arange(100,8,-12) #create in range\n",
    "print(c)\n",
    "zlist = np.zeros((3,5), dtype = np.int16) #create 3-by-5 zero matrix\n",
    "print(zlist)\n",
    "oneList = np.ones((2,2))\n",
    "print(oneList)\n",
    "\n",
    "x = np.linspace(0,2,9)\n",
    "print(x)\n",
    "\n",
    "y = np.eye(3)\n",
    "print(y)\n",
    "\n",
    "z= np.random.random((3,4))\n",
    "print(z)\n",
    "\n",
    "t = np.full((3,4),1.5)\n",
    "print(t)\n",
    "\n",
    "print(len(c))\n",
    "print(len(zlist))\n",
    "print(len(zlist[1,:]))\n",
    "print(np.shape(zlist))"
   ]
  },
  {
   "cell_type": "markdown",
   "metadata": {},
   "source": [
    "## <b> <font color = 'red'> Arithmetic operation</font></b>"
   ]
  },
  {
   "cell_type": "code",
   "execution_count": 8,
   "metadata": {},
   "outputs": [
    {
     "name": "stdout",
     "output_type": "stream",
     "text": [
      "[ 16   6   2   8  12   4  18   0 -14  28]\n",
      "[ 16   6   2   8  12   4  18   0 -14  28]\n",
      "[[ 5 12]\n",
      " [21 32]]\n",
      "[[ 5 12]\n",
      " [21 32]]\n",
      "[[19 22]\n",
      " [43 50]]\n",
      "[[ 2.71828183  7.3890561 ]\n",
      " [20.08553692 54.59815003]]\n",
      "[[ 0.84147098  0.90929743]\n",
      " [ 0.14112001 -0.7568025 ]]\n"
     ]
    }
   ],
   "source": [
    "g = a + a\n",
    "print (g)\n",
    "g = np.add(a,a)\n",
    "print(g)\n",
    "\n",
    "m1 = np.array([(1,2),(3,4)])\n",
    "m2 = np.array([(5,6),(7,8)])\n",
    "\n",
    "# element wise multiplication\n",
    "m3 = m1 * m2\n",
    "print(m3)\n",
    "\n",
    "m3 = np.multiply(m1,m2)\n",
    "print(m3)\n",
    "\n",
    "# Matrix dot product\n",
    "m3 = np.dot(m1,m2)\n",
    "print(m3)\n",
    "\n",
    "#other math function\n",
    "m3 = np.exp(m1)\n",
    "print(m3)\n",
    "\n",
    "m3 = np.sin(m1) # also np.log , np.cos , np.sqrt\n",
    "print(m3)\n",
    "\n",
    "\n"
   ]
  },
  {
   "cell_type": "markdown",
   "metadata": {},
   "source": [
    "## <b> <font color = 'red'> Comparison</font></b>"
   ]
  },
  {
   "cell_type": "code",
   "execution_count": 9,
   "metadata": {},
   "outputs": [
    {
     "name": "stdout",
     "output_type": "stream",
     "text": [
      "[[False False]\n",
      " [False False]]\n",
      "[[ True  True]\n",
      " [ True  True]]\n",
      "[[ True  True]\n",
      " [ True  True]]\n",
      "False\n",
      "True\n",
      "True\n",
      "True\n",
      "[[  1   2]\n",
      " [  3 100]]\n"
     ]
    }
   ],
   "source": [
    "print (m1==m2)\n",
    "print(m1 < m2)\n",
    "print(m1 + 5 > m2)\n",
    "print(np.array_equal(m1 ,m2))\n",
    "print(np.array_equal(m1 ,m1))\n",
    "m3 = m1 # reference copy\n",
    "print(np.array_equal(m3 ,m1))\n",
    "m3[1,1] = 100\n",
    "print(np.array_equal(m3 ,m1))\n",
    "print(m1)\n"
   ]
  },
  {
   "cell_type": "markdown",
   "metadata": {},
   "source": [
    "## <b> <font color = 'green'> Argregate functions</font></b>"
   ]
  },
  {
   "cell_type": "code",
   "execution_count": 10,
   "metadata": {},
   "outputs": [
    {
     "name": "stdout",
     "output_type": "stream",
     "text": [
      " sum of elements :  106\n",
      " minimum of elements :  1\n",
      " minimum of elements in columns:  [1 2]\n",
      " minimum of elements in rows:  [1 3]\n",
      " cummulative sum:  [[  1   3]\n",
      " [  3 103]]\n",
      " cummulative sum:  [[  1   3]\n",
      " [  3 103]]\n",
      " average :  26.5\n",
      "[100  88  76  64  52  40  28  16]\n",
      " median :  58.0\n",
      " standard deviation:  27.49545416973504\n",
      " standard deviation:  27.49545416973504\n",
      " correlation coefficent:  1.0\n",
      " correlation coefficent:  [[1. 1.]\n",
      " [1. 1.]]\n"
     ]
    }
   ],
   "source": [
    "print(' sum of elements : ', m1.sum())\n",
    "print(' minimum of elements : ', m1.min())\n",
    "print(' minimum of elements in columns: ', m1.min(axis=0))\n",
    "print(' minimum of elements in rows: ', m1.min(axis=1))\n",
    "print(' cummulative sum: ', m1.cumsum(axis=1))\n",
    "print(' cummulative sum: ', np.cumsum(m1, axis=1))\n",
    "\n",
    "print(' average : ', m1.mean())\n",
    "print(c)\n",
    "print(' median : ', np.median(c))\n",
    "\n",
    "print(' standard deviation: ', c.std())\n",
    "print(' standard deviation: ', np.std(c))\n",
    "\n",
    "print(' correlation coefficent: ', np.corrcoef(c))\n",
    "\n",
    "print(' correlation coefficent: ', np.corrcoef(m1))\n",
    "\n",
    "\n"
   ]
  },
  {
   "cell_type": "markdown",
   "metadata": {},
   "source": [
    "Copying Arrays"
   ]
  },
  {
   "cell_type": "code",
   "execution_count": 11,
   "metadata": {},
   "outputs": [
    {
     "data": {
      "text/plain": [
       "array([[  1,   2],\n",
       "       [  3, 100]])"
      ]
     },
     "execution_count": 11,
     "metadata": {},
     "output_type": "execute_result"
    }
   ],
   "source": [
    "m1_copy = m1.copy() # Create a deep copy of array\n",
    "m1_copy"
   ]
  },
  {
   "cell_type": "markdown",
   "metadata": {},
   "source": [
    "Sorting Arrays"
   ]
  },
  {
   "cell_type": "code",
   "execution_count": 12,
   "metadata": {},
   "outputs": [
    {
     "name": "stdout",
     "output_type": "stream",
     "text": [
      "original matrix\n",
      " [[5 3 1 7]\n",
      " [9 2 1 8]]\n",
      "sorted matrix\n",
      " [[1 3 5 7]\n",
      " [1 2 8 9]]\n",
      "sorted matrix\n",
      " [[5 2 1 7]\n",
      " [9 3 1 8]]\n"
     ]
    }
   ],
   "source": [
    "mat = np.array([(5,3,1,7),(9,2,1,8)])\n",
    "print('original matrix\\n', mat)\n",
    "mat.sort()\n",
    "print('sorted matrix\\n' , mat) # sort each row independently\n",
    "\n",
    "mat = np.array([(5,3,1,7),(9,2,1,8)])\n",
    "mat.sort(axis = 0)\n",
    "print('sorted matrix\\n' , mat) # sort each column independently\n"
   ]
  },
  {
   "cell_type": "code",
   "execution_count": 13,
   "metadata": {},
   "outputs": [
    {
     "name": "stdout",
     "output_type": "stream",
     "text": [
      "[1 3 4 0 2]\n",
      "[[ 1  3  4  0  2]\n",
      " [ 6  8  9  5  7]\n",
      " [11 13 14 10 12]\n",
      " [16 18 19 15 17]\n",
      " [21 23 24 20 22]]\n"
     ]
    }
   ],
   "source": [
    "c = np.array([5,2,8,2,4])    \n",
    "a = np.array([[ 0,  1,  2,  3,  4],\n",
    "              [ 5,  6,  7,  8,  9],\n",
    "              [10, 11, 12, 13, 14],\n",
    "              [15, 16, 17, 18, 19],\n",
    "              [20, 21, 22, 23, 24]])\n",
    "\n",
    "i = np.argsort(c)\n",
    "print(i)\n",
    "a = a[:,i]\n",
    "print(a)"
   ]
  },
  {
   "cell_type": "markdown",
   "metadata": {},
   "source": [
    "## Array Manipulation"
   ]
  },
  {
   "cell_type": "markdown",
   "metadata": {},
   "source": [
    "Transposing Array"
   ]
  },
  {
   "cell_type": "code",
   "execution_count": 14,
   "metadata": {},
   "outputs": [
    {
     "name": "stdout",
     "output_type": "stream",
     "text": [
      "[[ 1  6 11 16 21]\n",
      " [ 3  8 13 18 23]\n",
      " [ 4  9 14 19 24]\n",
      " [ 0  5 10 15 20]\n",
      " [ 2  7 12 17 22]]\n"
     ]
    }
   ],
   "source": [
    "b = a.transpose()\n",
    "print(b)"
   ]
  },
  {
   "cell_type": "markdown",
   "metadata": {},
   "source": [
    "Changing Array shape"
   ]
  },
  {
   "cell_type": "code",
   "execution_count": 15,
   "metadata": {},
   "outputs": [
    {
     "name": "stdout",
     "output_type": "stream",
     "text": [
      "Shape of a is  (3, 5)\n",
      "Shape of b is  (15,)\n",
      "[ 0  1  2  3  4  5  6  7  8  9 10 11 12 13 14]\n",
      "[[ 0  1  2  3  4]\n",
      " [ 5  6  7  8  9]\n",
      " [10 11 12 13 14]]\n"
     ]
    }
   ],
   "source": [
    "a = np.array([[ 0,  1,  2,  3,  4],\n",
    "              [ 5,  6,  7,  8,  9],\n",
    "              [10, 11, 12, 13, 14]])\n",
    "print('Shape of a is ' ,a.shape)\n",
    "b =a.ravel()\n",
    "print('Shape of b is ' ,b.shape)\n",
    "print(b)\n",
    "print(a)"
   ]
  },
  {
   "cell_type": "code",
   "execution_count": 16,
   "metadata": {},
   "outputs": [
    {
     "data": {
      "text/plain": [
       "array([[ 0,  1,  2],\n",
       "       [ 3,  4,  5],\n",
       "       [ 6,  7,  8],\n",
       "       [ 9, 10, 11],\n",
       "       [12, 13, 14]])"
      ]
     },
     "execution_count": 16,
     "metadata": {},
     "output_type": "execute_result"
    }
   ],
   "source": [
    "b.reshape((5,3))"
   ]
  },
  {
   "cell_type": "markdown",
   "metadata": {},
   "source": [
    "Adding / Removing Elements"
   ]
  },
  {
   "cell_type": "code",
   "execution_count": 22,
   "metadata": {},
   "outputs": [
    {
     "name": "stdout",
     "output_type": "stream",
     "text": [
      "[[ 0  1  2  3  4]\n",
      " [ 5  6  7  8  9]\n",
      " [10 11 12 13 14]\n",
      " [ 0  1  2  3  4]]\n"
     ]
    }
   ],
   "source": [
    "d = np.resize(a,(4,5))\n",
    "print(d)\n"
   ]
  },
  {
   "cell_type": "markdown",
   "metadata": {},
   "source": [
    "Append items to an array"
   ]
  },
  {
   "cell_type": "code",
   "execution_count": 38,
   "metadata": {},
   "outputs": [
    {
     "name": "stdout",
     "output_type": "stream",
     "text": [
      "[[ 1  2  3]\n",
      " [ 4  5  6]\n",
      " [10 20 30]\n",
      " [40 50 60]]\n",
      "[[ 1  2  3 10 20 30]\n",
      " [ 4  5  6 40 50 60]]\n"
     ]
    }
   ],
   "source": [
    "a = np.array([[1,2,3],\n",
    "     [4,5,6]])\n",
    "b = np.array([[10,20,30],[40,50,60]])\n",
    "c = np.append(a,b, axis =0)\n",
    "print(c)\n",
    "\n",
    "d = np.append(a,b, axis =1)\n",
    "print(d)"
   ]
  },
  {
   "cell_type": "markdown",
   "metadata": {},
   "source": [
    "Insert Items in an array"
   ]
  },
  {
   "cell_type": "code",
   "execution_count": 52,
   "metadata": {},
   "outputs": [
    {
     "name": "stdout",
     "output_type": "stream",
     "text": [
      "[1 5 6 2 3 4]\n"
     ]
    }
   ],
   "source": [
    "a = np.array([[1,2,3,4]])\n",
    "b = np.array([5,6])\n",
    "c = np.insert(a,1,b)\n",
    "print(c)\n"
   ]
  },
  {
   "cell_type": "markdown",
   "metadata": {},
   "source": [
    "delete items"
   ]
  },
  {
   "cell_type": "code",
   "execution_count": 53,
   "metadata": {},
   "outputs": [
    {
     "name": "stdout",
     "output_type": "stream",
     "text": [
      "[1 6 3 4]\n"
     ]
    }
   ],
   "source": [
    "c = np.delete(c,[1,3])\n",
    "print(c)"
   ]
  },
  {
   "cell_type": "markdown",
   "metadata": {},
   "source": [
    "Concatenating Arrays"
   ]
  },
  {
   "cell_type": "code",
   "execution_count": 56,
   "metadata": {},
   "outputs": [
    {
     "name": "stdout",
     "output_type": "stream",
     "text": [
      "[[ 1  2  3  4]\n",
      " [ 5  6  7  8]\n",
      " [10 20 30 40]\n",
      " [50 60 70 80]]\n",
      "[[ 1  2  3  4]\n",
      " [ 5  6  7  8]\n",
      " [10 20 30 40]\n",
      " [50 60 70 80]]\n",
      "[[ 1  2  3  4 10 20 30 40]\n",
      " [ 5  6  7  8 50 60 70 80]]\n"
     ]
    }
   ],
   "source": [
    "a = np.array([[1,2,3,4],[5,6,7,8]])\n",
    "b = np.array([[10,20,30,40],[50,60,70,80]])\n",
    "c = np.concatenate((a,b), axis = 0)\n",
    "print(c)\n",
    "\n",
    "d = np.vstack((a,b))\n",
    "print(d)\n",
    "\n",
    "e = np.hstack((a,b))\n",
    "print(e)\n"
   ]
  },
  {
   "cell_type": "markdown",
   "metadata": {},
   "source": [
    "Splitting Arrays"
   ]
  },
  {
   "cell_type": "code",
   "execution_count": 59,
   "metadata": {},
   "outputs": [
    {
     "name": "stdout",
     "output_type": "stream",
     "text": [
      "[array([1, 2, 3, 4]), array([5, 6, 7, 8])]\n"
     ]
    }
   ],
   "source": [
    "a = np.array([1,2,3,4,5,6,7,8])\n",
    "b = np.hsplit(a, 2)\n",
    "print(b)"
   ]
  },
  {
   "cell_type": "markdown",
   "metadata": {},
   "source": [
    "## Save and Load"
   ]
  },
  {
   "cell_type": "code",
   "execution_count": null,
   "metadata": {},
   "outputs": [],
   "source": [
    "np.save('myArray' ,a)\n",
    "a = np.load('myArray)')\n",
    "np.genfromtest(\"my_file.csv\" , delimeter = ',')\n",
    "np.savetext(\"myarray\", a, delimeter = \"|\")"
   ]
  }
 ],
 "metadata": {
  "kernelspec": {
   "display_name": "Python 3",
   "language": "python",
   "name": "python3"
  },
  "language_info": {
   "codemirror_mode": {
    "name": "ipython",
    "version": 3
   },
   "file_extension": ".py",
   "mimetype": "text/x-python",
   "name": "python",
   "nbconvert_exporter": "python",
   "pygments_lexer": "ipython3",
   "version": "3.8.5"
  }
 },
 "nbformat": 4,
 "nbformat_minor": 4
}
