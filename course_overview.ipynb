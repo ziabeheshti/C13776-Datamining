{
 "cells": [
  {
   "cell_type": "markdown",
   "metadata": {},
   "source": [
    "# Introduction to Datamining\n",
    "#### Instructor : Zia Beheshti, School of Engineering, [Azad U, South Tehran Branch](http://www/azad/ac/ir)\n",
    "\n",
    "# Modules\n",
    "1. [Setting Up Environment](install.ipynb)\n",
    "2. [introduction to Python](introduction_to_python.ipynb)\n",
    "3. Lists\n",
    "4. [Numpy](numpy_intro.ipynb)\n",
    "5. Pandas\n",
    "6. Statistics and Probability\n",
    "7. Data Preprocessing\n",
    "8. Frequent Pattern Mining\n",
    "9. Classification\n",
    "10. Clustering\n",
    "11. Deep Learning and Neural Networks\n"
   ]
  },
  {
   "cell_type": "code",
   "execution_count": null,
   "metadata": {},
   "outputs": [],
   "source": []
  }
 ],
 "metadata": {
  "kernelspec": {
   "display_name": "Python 3.7 (tensorflow)",
   "language": "python",
   "name": "tensorflow"
  },
  "language_info": {
   "codemirror_mode": {
    "name": "ipython",
    "version": 3
   },
   "file_extension": ".py",
   "mimetype": "text/x-python",
   "name": "python",
   "nbconvert_exporter": "python",
   "pygments_lexer": "ipython3",
   "version": "3.7.9"
  }
 },
 "nbformat": 4,
 "nbformat_minor": 4
}
